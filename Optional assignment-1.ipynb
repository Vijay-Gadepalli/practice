{
 "cells": [
  {
   "cell_type": "markdown",
   "metadata": {},
   "source": [
    "1. Write a function that inputs a number and prints the multiplication table of that number"
   ]
  },
  {
   "cell_type": "code",
   "execution_count": 2,
   "metadata": {},
   "outputs": [
    {
     "name": "stdout",
     "output_type": "stream",
     "text": [
      "Enter a number to print multiplication table5\n",
      "5 X  1 = 5\n",
      "5 X  2 = 10\n",
      "5 X  3 = 15\n",
      "5 X  4 = 20\n",
      "5 X  5 = 25\n",
      "5 X  6 = 30\n",
      "5 X  7 = 35\n",
      "5 X  8 = 40\n",
      "5 X  9 = 45\n",
      "5 X  10 = 50\n"
     ]
    }
   ],
   "source": [
    "def mul_table(x):\n",
    "    \"\"\"This function prints the multiplication table\"\"\"\n",
    "\n",
    "    for i in range(1,11):\n",
    "        print(\"{} X  {} = {}\".format(x,i,x*i))\n",
    "\n",
    "num=int(input(\"Enter a number to print multiplication table\"))\n",
    "mul_table(num)"
   ]
  },
  {
   "cell_type": "markdown",
   "metadata": {},
   "source": [
    "2. Write a program to print twin primes less than 1000. If two consecutive odd numbers are both prime then they are known as twin primes"
   ]
  },
  {
   "cell_type": "code",
   "execution_count": 3,
   "metadata": {},
   "outputs": [
    {
     "name": "stdout",
     "output_type": "stream",
     "text": [
      "(3,5) are twin primes pair\n",
      "(5,7) are twin primes pair\n",
      "(11,13) are twin primes pair\n",
      "(17,19) are twin primes pair\n",
      "(29,31) are twin primes pair\n",
      "(41,43) are twin primes pair\n",
      "(59,61) are twin primes pair\n",
      "(71,73) are twin primes pair\n",
      "(101,103) are twin primes pair\n",
      "(107,109) are twin primes pair\n",
      "(137,139) are twin primes pair\n",
      "(149,151) are twin primes pair\n",
      "(179,181) are twin primes pair\n",
      "(191,193) are twin primes pair\n",
      "(197,199) are twin primes pair\n",
      "(227,229) are twin primes pair\n",
      "(239,241) are twin primes pair\n",
      "(269,271) are twin primes pair\n",
      "(281,283) are twin primes pair\n",
      "(311,313) are twin primes pair\n",
      "(347,349) are twin primes pair\n",
      "(419,421) are twin primes pair\n",
      "(431,433) are twin primes pair\n",
      "(461,463) are twin primes pair\n",
      "(521,523) are twin primes pair\n",
      "(569,571) are twin primes pair\n",
      "(599,601) are twin primes pair\n",
      "(617,619) are twin primes pair\n",
      "(641,643) are twin primes pair\n",
      "(659,661) are twin primes pair\n",
      "(809,811) are twin primes pair\n",
      "(821,823) are twin primes pair\n",
      "(827,829) are twin primes pair\n",
      "(857,859) are twin primes pair\n",
      "(881,883) are twin primes pair\n",
      "There are 35 twin prime pairs below 1000\n"
     ]
    }
   ],
   "source": [
    "def twin_prime():\n",
    "    \n",
    "    \"\"\" this function prints the twin primes less than 1000\"\"\"\n",
    "    isDivisible=False\n",
    "    first=2\n",
    "    count=0\n",
    "    for i in range(2,1000,1):\n",
    "        isDivisible=False\n",
    "        for j in range(2,i,1):\n",
    "            if(i%j==0):\n",
    "                isDivisible=True\n",
    "        if not isDivisible:\n",
    "            second=i\n",
    "            if second-first==2:\n",
    "                count=count+1\n",
    "                print(\"({},{}) are twin primes pair\".format(first,second))\n",
    "                first=second\n",
    "            else:\n",
    "                first=i\n",
    "    print(\"There are {} twin prime pairs below 1000\".format(count))\n",
    "\n",
    "twin_prime()           "
   ]
  },
  {
   "cell_type": "markdown",
   "metadata": {},
   "source": [
    "3. Write a program to find out the prime factors of a number. Example: prime factors of 56 - 2, 2, 2, 7"
   ]
  },
  {
   "cell_type": "code",
   "execution_count": 1,
   "metadata": {},
   "outputs": [
    {
     "name": "stdout",
     "output_type": "stream",
     "text": [
      "Enter a number to print its prime factors56\n",
      "2\n",
      "2\n",
      "2\n",
      "7\n"
     ]
    }
   ],
   "source": [
    "def prime_factors(n):\n",
    "    \"\"\" This function prints the prime factors of the number \"\"\"\n",
    "    i=2\n",
    "    while(n>1):\n",
    "        if n%i==0:\n",
    "            print(i)\n",
    "            n=int(n/i)\n",
    "            i=2\n",
    "        else:\n",
    "            i=i+1\n",
    "\n",
    "x=int(input(\"Enter a number to print its prime factors\"))\n",
    "prime_factors(x)    "
   ]
  },
  {
   "cell_type": "markdown",
   "metadata": {},
   "source": [
    "4. Write a program to implement these formulae of permutations and combinations.Number of permutations of n objects taken r at a time: p(n, r) = n! / (n-r)!. Number of combinations of n objects taken r at a time is: c(n, r) = n! / (r!*(n-r)!) = p(n,r) / r!"
   ]
  },
  {
   "cell_type": "code",
   "execution_count": 14,
   "metadata": {},
   "outputs": [
    {
     "name": "stdout",
     "output_type": "stream",
     "text": [
      "Enter the value of n to calulate nCr and nPr10\n",
      "Enter the value of r to calulate nCr and nPr2\n",
      "10C2 is 45.0\n",
      "10P2 is 90.0\n"
     ]
    }
   ],
   "source": [
    "def factorial(x):\n",
    "    \"\"\" this function calculates the factorial of the number\"\"\"\n",
    "    if x==1 or x==0:\n",
    "        return 1\n",
    "    else:\n",
    "        return x*factorial(x-1)\n",
    "\n",
    "def nCr(n,r):\n",
    "    \"\"\"This function caluclates the nCr value \"\"\"\n",
    "    return factorial(n)/(factorial(r)*factorial(n-r))\n",
    "\n",
    "def nPr(n,r):\n",
    "    \"\"\" This function calculates the nPr value\"\"\"\n",
    "    return factorial(n)/factorial(n-r)\n",
    "\n",
    "n= int(input(\"Enter the value of n to calulate nCr and nPr\"))\n",
    "r= int(input(\"Enter the value of r to calulate nCr and nPr\"))\n",
    "\n",
    "if n-r<0:\n",
    "    print(\"n values should be greater than or equal to r\")\n",
    "else:\n",
    "    print(\"{}C{} is {}\".format(n,r,nCr(n,r)))\n",
    "    print(\"{}P{} is {}\".format(n,r,nPr(n,r)))      \n",
    "    "
   ]
  },
  {
   "cell_type": "markdown",
   "metadata": {},
   "source": [
    "5. Write a function that converts a decimal number to binary number"
   ]
  },
  {
   "cell_type": "code",
   "execution_count": 17,
   "metadata": {},
   "outputs": [
    {
     "name": "stdout",
     "output_type": "stream",
     "text": [
      "Enter a decimal number to convert to binary number8\n",
      "Binary number of 8 is 1000\n"
     ]
    }
   ],
   "source": [
    "def dec_to_bin(x):\n",
    "    \"\"\"This function converts decimal number to binary\"\"\"\n",
    "    a=\"\"\n",
    "    temp=x\n",
    "    while(x):\n",
    "        a=a+str(x%2)\n",
    "        x=int(x/2)\n",
    "\n",
    "    print(\"Binary number of {} is {}\".format(temp,a[::-1]))\n",
    "\n",
    "\n",
    "num=int(input(\"Enter a decimal number to convert to binary number\"))\n",
    "dec_to_bin(num)\n"
   ]
  },
  {
   "cell_type": "markdown",
   "metadata": {},
   "source": [
    "6. Write a function cubesum() that accepts an integer and returns the sum of the cubes of individual digits of that number. Use this function to make functions PrintArmstrong() and isArmstrong() to print Armstrong numbers and to find whether is an Armstrong number."
   ]
  },
  {
   "cell_type": "code",
   "execution_count": 22,
   "metadata": {},
   "outputs": [
    {
     "name": "stdout",
     "output_type": "stream",
     "text": [
      "Enter a number to check whether armstrong or not153\n",
      "153 is the armstrong number\n",
      "Enter the Limit to print all the armstrong number in that500\n",
      "153 is the armstrong number\n",
      "370 is the armstrong number\n",
      "371 is the armstrong number\n",
      "407 is the armstrong number\n"
     ]
    }
   ],
   "source": [
    "def cubesum(x):\n",
    "    c=0\n",
    "    while x:\n",
    "        r=x%10\n",
    "        c=c+(r**3)\n",
    "        x=int(x/10)\n",
    "    return c\n",
    "\n",
    "def isArmstrong(n):\n",
    "    if n==(cubesum(n)):\n",
    "        print(\"{} is the armstrong number\".format(n))\n",
    "        return True\n",
    "    else:\n",
    "        return False\n",
    "    \n",
    "    \n",
    "def PrintArmstrong(limit):\n",
    "    for i in range(2,limit):\n",
    "        isArmstrong(i)\n",
    "        \n",
    "        \"\"\"\"\"if isArmstrong(i):\n",
    "            Print(\"{} is the armstrong number in the {} range\".format(i,limit))\"\"\"\"\"\n",
    "            \n",
    "check=int(input(\"Enter a number to check whether armstrong or not\"))\n",
    "isArmstrong(check)\n",
    "\n",
    "limit=int(input(\"Enter the Limit to print all the armstrong number in that\"))\n",
    "PrintArmstrong(limit)"
   ]
  },
  {
   "cell_type": "markdown",
   "metadata": {},
   "source": [
    "7. Write a function prodDigits() that inputs a number and returns the product of digits of that number"
   ]
  },
  {
   "cell_type": "code",
   "execution_count": 27,
   "metadata": {},
   "outputs": [
    {
     "name": "stdout",
     "output_type": "stream",
     "text": [
      "Enter a number to print the product of digits856\n",
      "The product of digits in 856 is 240\n"
     ]
    }
   ],
   "source": [
    "def prodDigits(x):\n",
    "    \"\"\" This function takes a number and returns the product of digits in that number \"\"\"\n",
    "    p=1\n",
    "    while(x):\n",
    "        r=x%10\n",
    "        p=p*r\n",
    "        x=int(x/10)\n",
    "    return p\n",
    "num=int(input(\"Enter a number to print the product of digits\"))\n",
    "print(\"The product of digits in {} is {}\".format(num,prodDigits(num)))"
   ]
  },
  {
   "cell_type": "markdown",
   "metadata": {},
   "source": [
    "8. If all digits of a number n are multiplied by each other repeating with the product, the one digit number obtained at last is called the multiplicative digital root of n. The number of times digits need to be multiplied to reach one digit is called the multiplicative persistance of n. Example: 86 -> 48 -> 32 -> 6 (MDR 6, MPersistence 3)  341 -> 12->2 (MDR 2, MPersistence 2) Using the function prodDigits() of previous exercise write functions MDR() and MPersistence() that input a number and return  ts multiplicative digital root and multiplicative persistence respectively"
   ]
  },
  {
   "cell_type": "code",
   "execution_count": null,
   "metadata": {},
   "outputs": [],
   "source": []
  },
  {
   "cell_type": "markdown",
   "metadata": {},
   "source": [
    "9. Write a function sumPdivisors() that finds the sum of proper divisors of a number. Proper divisors of a number are those numbers by which the number is divisible, except the number itself. For example proper divisors of 36 are 1, 2, 3, 4, 6, 9, 18"
   ]
  },
  {
   "cell_type": "code",
   "execution_count": null,
   "metadata": {},
   "outputs": [],
   "source": []
  },
  {
   "cell_type": "markdown",
   "metadata": {},
   "source": [
    "10. A number is called perfect if the sum of proper divisors of that number is equal to the number. For example 28 is perfect number, since 1+2+4+7+14=28. Write a program to print all the perfect numbers in a given range"
   ]
  },
  {
   "cell_type": "code",
   "execution_count": null,
   "metadata": {},
   "outputs": [],
   "source": []
  },
  {
   "cell_type": "markdown",
   "metadata": {},
   "source": [
    "11. Two different numbers are called amicable numbers if the sum of the proper divisors of each is equal to the other number. For example 220 and 284 are amicable numbers. Sum of proper divisors of 220 = 1+2+4+5+10+11+20+22+44+55+110 = 284 Sum of proper divisors of 284 = 1+2+4+71+142 = 220 Write a function to print pairs of amicable numbers in a range"
   ]
  },
  {
   "cell_type": "code",
   "execution_count": null,
   "metadata": {},
   "outputs": [],
   "source": []
  },
  {
   "cell_type": "markdown",
   "metadata": {},
   "source": [
    "12. Write a program which can filter odd numbers in a list by using filter function"
   ]
  },
  {
   "cell_type": "code",
   "execution_count": null,
   "metadata": {},
   "outputs": [],
   "source": []
  },
  {
   "cell_type": "markdown",
   "metadata": {},
   "source": [
    "13. Write a program which can map() to make a list whose elements are cube of elements in a given list"
   ]
  },
  {
   "cell_type": "code",
   "execution_count": null,
   "metadata": {},
   "outputs": [],
   "source": []
  },
  {
   "cell_type": "markdown",
   "metadata": {},
   "source": [
    "14. Write a program which can map() and filter() to make a list whose elements are cube of even number in a given list"
   ]
  },
  {
   "cell_type": "code",
   "execution_count": null,
   "metadata": {},
   "outputs": [],
   "source": []
  }
 ],
 "metadata": {
  "kernelspec": {
   "display_name": "Python 3",
   "language": "python",
   "name": "python3"
  },
  "language_info": {
   "codemirror_mode": {
    "name": "ipython",
    "version": 3
   },
   "file_extension": ".py",
   "mimetype": "text/x-python",
   "name": "python",
   "nbconvert_exporter": "python",
   "pygments_lexer": "ipython3",
   "version": "3.7.2"
  }
 },
 "nbformat": 4,
 "nbformat_minor": 2
}
