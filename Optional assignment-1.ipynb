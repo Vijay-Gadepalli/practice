{
 "cells": [
  {
   "cell_type": "markdown",
   "metadata": {},
   "source": [
    "### 1. Write a function that inputs a number and prints the multiplication table of that number"
   ]
  },
  {
   "cell_type": "code",
   "execution_count": 19,
   "metadata": {},
   "outputs": [
    {
     "name": "stdout",
     "output_type": "stream",
     "text": [
      "Enter a number to print multiplication table10\n",
      "10 X  1 = 10\n",
      "10 X  2 = 20\n",
      "10 X  3 = 30\n",
      "10 X  4 = 40\n",
      "10 X  5 = 50\n",
      "10 X  6 = 60\n",
      "10 X  7 = 70\n",
      "10 X  8 = 80\n",
      "10 X  9 = 90\n",
      "10 X  10 = 100\n"
     ]
    }
   ],
   "source": [
    "def mul_table(x):\n",
    "    \"\"\"This function prints the multiplication table\"\"\"\n",
    "\n",
    "    for i in range(1,11):\n",
    "        print(\"{} X  {} = {}\".format(x,i,x*i))\n",
    "\n",
    "num=int(input(\"Enter a number to print multiplication table\"))\n",
    "mul_table(num)"
   ]
  },
  {
   "cell_type": "markdown",
   "metadata": {},
   "source": [
    "### 2. Write a program to print twin primes less than 1000. If two consecutive odd numbers are both prime then they are known as twin primes"
   ]
  },
  {
   "cell_type": "code",
   "execution_count": 20,
   "metadata": {},
   "outputs": [
    {
     "name": "stdout",
     "output_type": "stream",
     "text": [
      "(3,5) are twin primes pair\n",
      "(5,7) are twin primes pair\n",
      "(11,13) are twin primes pair\n",
      "(17,19) are twin primes pair\n",
      "(29,31) are twin primes pair\n",
      "(41,43) are twin primes pair\n",
      "(59,61) are twin primes pair\n",
      "(71,73) are twin primes pair\n",
      "(101,103) are twin primes pair\n",
      "(107,109) are twin primes pair\n",
      "(137,139) are twin primes pair\n",
      "(149,151) are twin primes pair\n",
      "(179,181) are twin primes pair\n",
      "(191,193) are twin primes pair\n",
      "(197,199) are twin primes pair\n",
      "(227,229) are twin primes pair\n",
      "(239,241) are twin primes pair\n",
      "(269,271) are twin primes pair\n",
      "(281,283) are twin primes pair\n",
      "(311,313) are twin primes pair\n",
      "(347,349) are twin primes pair\n",
      "(419,421) are twin primes pair\n",
      "(431,433) are twin primes pair\n",
      "(461,463) are twin primes pair\n",
      "(521,523) are twin primes pair\n",
      "(569,571) are twin primes pair\n",
      "(599,601) are twin primes pair\n",
      "(617,619) are twin primes pair\n",
      "(641,643) are twin primes pair\n",
      "(659,661) are twin primes pair\n",
      "(809,811) are twin primes pair\n",
      "(821,823) are twin primes pair\n",
      "(827,829) are twin primes pair\n",
      "(857,859) are twin primes pair\n",
      "(881,883) are twin primes pair\n",
      "There are 35 twin prime pairs below 1000\n"
     ]
    }
   ],
   "source": [
    "def twin_prime():    \n",
    "    \"\"\" this function prints the twin primes less than 1000\"\"\"\n",
    "    isDivisible=False\n",
    "    first=2\n",
    "    count=0\n",
    "    for i in range(2,1000,1):\n",
    "        isDivisible=False\n",
    "        for j in range(2,i,1):\n",
    "            if(i%j==0):\n",
    "                isDivisible=True\n",
    "        if not isDivisible:\n",
    "            second=i\n",
    "            if second-first==2:\n",
    "                count=count+1\n",
    "                print(\"({},{}) are twin primes pair\".format(first,second))\n",
    "                first=second\n",
    "            else:\n",
    "                first=i\n",
    "    print(\"There are {} twin prime pairs below 1000\".format(count))\n",
    "\n",
    "twin_prime()           "
   ]
  },
  {
   "cell_type": "markdown",
   "metadata": {},
   "source": [
    "### 3. Write a program to find out the prime factors of a number. Example: prime factors of 56 - 2, 2, 2, 7"
   ]
  },
  {
   "cell_type": "code",
   "execution_count": 21,
   "metadata": {},
   "outputs": [
    {
     "name": "stdout",
     "output_type": "stream",
     "text": [
      "Enter a number to print its prime factors150\n",
      "2\n",
      "3\n",
      "5\n",
      "5\n"
     ]
    }
   ],
   "source": [
    "def prime_factors(n):\n",
    "    \"\"\" This function prints the prime factors of the number \"\"\"\n",
    "    i=2\n",
    "    while(n>1):\n",
    "        if n%i==0:\n",
    "            print(i)\n",
    "            n=int(n/i)\n",
    "            i=2\n",
    "        else:\n",
    "            i=i+1\n",
    "\n",
    "x=int(input(\"Enter a number to print its prime factors\"))\n",
    "prime_factors(x)    "
   ]
  },
  {
   "cell_type": "markdown",
   "metadata": {},
   "source": [
    "### 4. Write a program to implement these formulae of permutations and combinations.Number of permutations of n objects taken r at a time: p(n, r) = n! / (n-r)!. Number of combinations of n objects taken r at a time is: c(n, r) = n! / (r!*(n-r)!) = p(n,r) / r!"
   ]
  },
  {
   "cell_type": "code",
   "execution_count": 22,
   "metadata": {},
   "outputs": [
    {
     "name": "stdout",
     "output_type": "stream",
     "text": [
      "Enter the value of n to calulate nCr and nPr15\n",
      "Enter the value of r to calulate nCr and nPr6\n",
      "15C6 is 5005.0\n",
      "15P6 is 3603600.0\n"
     ]
    }
   ],
   "source": [
    "def factorial(x):\n",
    "    \"\"\" this function calculates the factorial of the number\"\"\"\n",
    "    if x==1 or x==0:\n",
    "        return 1\n",
    "    else:\n",
    "        return x*factorial(x-1)\n",
    "\n",
    "def nCr(n,r):\n",
    "    \"\"\"This function caluclates the nCr value \"\"\"\n",
    "    return factorial(n)/(factorial(r)*factorial(n-r))\n",
    "\n",
    "def nPr(n,r):\n",
    "    \"\"\" This function calculates the nPr value\"\"\"\n",
    "    return factorial(n)/factorial(n-r)\n",
    "\n",
    "n= int(input(\"Enter the value of n to calulate nCr and nPr\"))\n",
    "r= int(input(\"Enter the value of r to calulate nCr and nPr\"))\n",
    "\n",
    "if n-r<0:\n",
    "    print(\"n value should be greater than or equal to r\")\n",
    "else:\n",
    "    print(\"{}C{} is {}\".format(n,r,nCr(n,r)))\n",
    "    print(\"{}P{} is {}\".format(n,r,nPr(n,r)))      \n",
    "    "
   ]
  },
  {
   "cell_type": "markdown",
   "metadata": {},
   "source": [
    "### 5. Write a function that converts a decimal number to binary number"
   ]
  },
  {
   "cell_type": "code",
   "execution_count": 23,
   "metadata": {},
   "outputs": [
    {
     "name": "stdout",
     "output_type": "stream",
     "text": [
      "Enter a decimal number to convert to binary number18\n",
      "Binary number of 18 is 10010\n"
     ]
    }
   ],
   "source": [
    "def dec_to_bin(x):\n",
    "    \"\"\"This function converts decimal number to binary\"\"\"\n",
    "    a=\"\"\n",
    "    temp=x\n",
    "    while(x):\n",
    "        a=a+str(x%2)\n",
    "        x=int(x/2)\n",
    "\n",
    "    print(\"Binary number of {} is {}\".format(temp,a[::-1]))\n",
    "\n",
    "\n",
    "num=int(input(\"Enter a decimal number to convert to binary number\"))\n",
    "dec_to_bin(num)\n"
   ]
  },
  {
   "cell_type": "markdown",
   "metadata": {},
   "source": [
    "### 6. Write a function cubesum() that accepts an integer and returns the sum of the cubes of individual digits of that number. Use this function to make functions PrintArmstrong() and isArmstrong() to print Armstrong numbers and to find whether is an Armstrong number."
   ]
  },
  {
   "cell_type": "code",
   "execution_count": 33,
   "metadata": {},
   "outputs": [
    {
     "name": "stdout",
     "output_type": "stream",
     "text": [
      "Enter a number to check whether armstrong or not500\n",
      "500 is not the armstrong number\n",
      "Enter the Limit to print all the armstrong number in that500\n",
      "153 is the armstrong number in the 500 range\n",
      "370 is the armstrong number in the 500 range\n",
      "371 is the armstrong number in the 500 range\n",
      "407 is the armstrong number in the 500 range\n"
     ]
    }
   ],
   "source": [
    "def cubesum(x):\n",
    "    \"\"\" This function caluculates sum of cubes of each digit in a number\"\"\"\n",
    "    c=0\n",
    "    while x:\n",
    "        r=x%10\n",
    "        c=c+(r**3)\n",
    "        x=int(x/10)\n",
    "    return c\n",
    "\n",
    "def isArmstrong(n):\n",
    "    \"\"\" This function checks & prints whether the given number is armstrong or not \"\"\"\n",
    "    if n==(cubesum(n)):\n",
    "        print(\"{} is the armstrong number\".format(n))\n",
    "    else:\n",
    "        print(\"{} is not the armstrong number\".format(n))\n",
    "    \n",
    "    \n",
    "def PrintArmstrong(limit):\n",
    "    \"\"\" This function prints all armstrong numbers in given range \"\"\"\n",
    "    for i in range(2,limit):\n",
    "        if i==(cubesum(i)):\n",
    "            print(\"{} is the armstrong number in the {} range\".format(i,limit))\n",
    "            \n",
    "check=int(input(\"Enter a number to check whether armstrong or not\"))\n",
    "isArmstrong(check)\n",
    "\n",
    "limit=int(input(\"Enter the Limit to print all the armstrong number in that\"))\n",
    "PrintArmstrong(limit)"
   ]
  },
  {
   "cell_type": "markdown",
   "metadata": {},
   "source": [
    "### 7. Write a function prodDigits() that inputs a number and returns the product of digits of that number"
   ]
  },
  {
   "cell_type": "code",
   "execution_count": 25,
   "metadata": {},
   "outputs": [
    {
     "name": "stdout",
     "output_type": "stream",
     "text": [
      "Enter a number to print the product of digits83\n",
      "The product of digits in 83 is 24\n"
     ]
    }
   ],
   "source": [
    "def prodDigits(x):\n",
    "    \"\"\" This function takes a number and returns the product of digits in that number \"\"\"\n",
    "    p=1\n",
    "    while(x):\n",
    "        r=x%10\n",
    "        p=p*r\n",
    "        x=int(x/10)\n",
    "    return p\n",
    "num=int(input(\"Enter a number to print the product of digits\"))\n",
    "print(\"The product of digits in {} is {}\".format(num,prodDigits(num)))"
   ]
  },
  {
   "cell_type": "markdown",
   "metadata": {},
   "source": [
    "### 8. If all digits of a number n are multiplied by each other repeating with the product, the one digit number obtained at last is called the multiplicative digital root of n. The number of times digits need to be multiplied to reach one digit is called the multiplicative persistance of n. Example: 86 -> 48 -> 32 -> 6 (MDR 6, MPersistence 3)  341 -> 12->2 (MDR 2, MPersistence 2) Using the function prodDigits() of previous exercise write functions MDR() and MPersistence() that input a number and return  ts multiplicative digital root and multiplicative persistence respectively"
   ]
  },
  {
   "cell_type": "code",
   "execution_count": 26,
   "metadata": {},
   "outputs": [
    {
     "name": "stdout",
     "output_type": "stream",
     "text": [
      "Enter a number to caluculate its MDR and MPersistence965\n",
      "MDR of 965 is 0\n",
      "MPersistence of 965 is 2\n"
     ]
    }
   ],
   "source": [
    "def MDR(n):\n",
    "    \"\"\" This function calculates MDR of the given number \"\"\"\n",
    "    while n>9:\n",
    "        n=prodDigits(n)\n",
    "    return n\n",
    "        \n",
    "def MPersistence(n):\n",
    "    \"\"\" This function calculates MPersistence of the given number \"\"\"\n",
    "    count=0\n",
    "    while n>9:\n",
    "        n=prodDigits(n)\n",
    "        count+=1\n",
    "    return count\n",
    "\n",
    "n=int(input(\"Enter a number to caluculate its MDR and MPersistence\"))\n",
    "print(\"MDR of {} is {}\".format(n,MDR(n)))\n",
    "print(\"MPersistence of {} is {}\".format(n,MPersistence(n)))\n",
    "   \n",
    "    "
   ]
  },
  {
   "cell_type": "markdown",
   "metadata": {},
   "source": [
    "### 9. Write a function sumPdivisors() that finds the sum of proper divisors of a number. Proper divisors of a number are those numbers by which the number is divisible, except the number itself. For example proper divisors of 36 are 1, 2, 3, 4, 6, 9, 18"
   ]
  },
  {
   "cell_type": "code",
   "execution_count": 27,
   "metadata": {},
   "outputs": [
    {
     "name": "stdout",
     "output_type": "stream",
     "text": [
      "Enter a number to find its sum of proper divisors962\n",
      "sum of the proper divisors of 962 is 634\n"
     ]
    }
   ],
   "source": [
    "def sumPdivisors(n):\n",
    "    \"\"\" This function calculates the sum of proper divisors of a given number\"\"\"\n",
    "    s=0\n",
    "    for i in range(1,n):\n",
    "        if n%i==0:\n",
    "            s=s+i\n",
    "    return s       \n",
    "    \n",
    "num=int(input(\"Enter a number to find its sum of proper divisors\"))\n",
    "s=sumPdivisors(num)\n",
    "print(\"sum of the proper divisors of {} is {}\".format(num,s)) "
   ]
  },
  {
   "cell_type": "markdown",
   "metadata": {},
   "source": [
    "### 10. A number is called perfect if the sum of proper divisors of that number is equal to the number. For example 28 is perfect number, since 1+2+4+7+14=28. Write a program to print all the perfect numbers in a given range"
   ]
  },
  {
   "cell_type": "code",
   "execution_count": 28,
   "metadata": {},
   "outputs": [
    {
     "name": "stdout",
     "output_type": "stream",
     "text": [
      "Enter a limit to print all the perfect number in that95\n",
      "6 is the perfect number in the range of 95\n",
      "28 is the perfect number in the range of 95\n"
     ]
    }
   ],
   "source": [
    "def sumofproperdivisors(n):\n",
    "    \"\"\" This function calculates the sum of proper divisors of a given number\"\"\"\n",
    "    s=0\n",
    "    for i in range(1,n):\n",
    "        if n%i==0:\n",
    "            s=s+i\n",
    "    return s    \n",
    "\n",
    "def printperfectnumbers(limit):\n",
    "    \"\"\" this function prints all the perfect numbers in the given range \"\"\"\n",
    "    for i in range(1,limit):\n",
    "        if i==(sumofproperdivisors(i)):\n",
    "            print(\"{} is the perfect number in the range of {}\".format(i,limit)) \n",
    "            \n",
    "            \n",
    "rnge= int(input(\"Enter a limit to print all the perfect number in that\"))\n",
    "printperfectnumbers(rnge)           \n",
    "            "
   ]
  },
  {
   "cell_type": "markdown",
   "metadata": {},
   "source": [
    "### 11. Two different numbers are called amicable numbers if the sum of the proper divisors of each is equal to the other number. For example 220 and 284 are amicable numbers. Sum of proper divisors of 220 = 1+2+4+5+10+11+20+22+44+55+110 = 284 Sum of proper divisors of 284 = 1+2+4+71+142 = 220 Write a function to print pairs of amicable numbers in a range"
   ]
  },
  {
   "cell_type": "code",
   "execution_count": 29,
   "metadata": {},
   "outputs": [
    {
     "name": "stdout",
     "output_type": "stream",
     "text": [
      "Enter a range to print the amicable number pair1000\n",
      "(220,284) are amicable pair in range of 1000\n"
     ]
    }
   ],
   "source": [
    "def printamicablenumber(limit):\n",
    "    \"\"\" this function prints all the amicable numbers in the given range \"\"\"\n",
    "    for i in range(1,limit):\n",
    "        n1=sumPdivisors(i)\n",
    "        if n1<limit and i!=n1:\n",
    "            n2=sumPdivisors(n1)\n",
    "            if n2==i and n2<n1:\n",
    "                print(\"({},{}) are amicable pair in range of {}\".format(i,n1,limit))\n",
    "\n",
    "limit=int(input(\"Enter a range to print the amicable number pair\")) \n",
    "printamicablenumber(limit)\n",
    "                "
   ]
  },
  {
   "cell_type": "markdown",
   "metadata": {},
   "source": [
    "### 12. Write a program which can filter odd numbers in a list by using filter function"
   ]
  },
  {
   "cell_type": "code",
   "execution_count": 19,
   "metadata": {},
   "outputs": [
    {
     "name": "stdout",
     "output_type": "stream",
     "text": [
      "Input List--> [1, 2, 3, 4, 5, 6, 7, 8, 9, 10, 11, 12, 13, 14, 15, 16, 17, 18, 19]\n",
      "After applying odd filter--> [1, 3, 5, 7, 9, 11, 13, 15, 17, 19]\n"
     ]
    }
   ],
   "source": [
    "def odd_numbers(num):\n",
    "    \"\"\"This function return if and only if the item is odd number \"\"\"\n",
    "    if num%2==1:\n",
    "        return num\n",
    "    \n",
    "lst=range(1,20)\n",
    "print(\"Input List-->\",list(lst))\n",
    "odd_number_lst=list(filter(odd_numbers,lst))\n",
    "print(\"After applying odd filter-->\",odd_number_lst)\n",
    "    "
   ]
  },
  {
   "cell_type": "markdown",
   "metadata": {},
   "source": [
    "### 13. Write a program which can map() to make a list whose elements are cube of elements in a given list"
   ]
  },
  {
   "cell_type": "code",
   "execution_count": 17,
   "metadata": {},
   "outputs": [
    {
     "name": "stdout",
     "output_type": "stream",
     "text": [
      "Input List--> [1, 2, 3, 4, 5, 6, 7, 8, 9]\n",
      "After applying cube filter--> [1, 8, 27, 64, 125, 216, 343, 512, 729]\n"
     ]
    }
   ],
   "source": [
    "def cube(num):\n",
    "    \"\"\" this function calculates & returns the cube of the number\"\"\"\n",
    "    return num**3\n",
    "\n",
    "\n",
    "inpt=range(1,10)\n",
    "print(\"Input List-->\",list(inpt))\n",
    "cubed=list(map(cube,inpt))\n",
    "print(\"After applying cube filter-->\",cubed)\n",
    "\n"
   ]
  },
  {
   "cell_type": "markdown",
   "metadata": {},
   "source": [
    "### 14. Write a program which can map() and filter() to make a list whose elements are cube of even number in a given list"
   ]
  },
  {
   "cell_type": "code",
   "execution_count": 20,
   "metadata": {},
   "outputs": [
    {
     "name": "stdout",
     "output_type": "stream",
     "text": [
      "Input data--> [1, 2, 3, 4, 5, 6, 7, 8, 9]\n",
      "After filtering even number and applying cubes--> [8, 64, 216, 512]\n"
     ]
    }
   ],
   "source": [
    "def even_numbers(num):\n",
    "    \"\"\"This function return if and only if the item is even number \"\"\"\n",
    "    if num%2==0:\n",
    "        return num\n",
    "\n",
    "data=list(range(1,10))\n",
    "print(\"Input data-->\",data)\n",
    "even_cube=list(map(cube,list(filter(even_numbers,data))))\n",
    "print(\"After filtering even number and applying cubes-->\",even_cube)"
   ]
  }
 ],
 "metadata": {
  "kernelspec": {
   "display_name": "Python 3",
   "language": "python",
   "name": "python3"
  },
  "language_info": {
   "codemirror_mode": {
    "name": "ipython",
    "version": 3
   },
   "file_extension": ".py",
   "mimetype": "text/x-python",
   "name": "python",
   "nbconvert_exporter": "python",
   "pygments_lexer": "ipython3",
   "version": "3.7.3"
  }
 },
 "nbformat": 4,
 "nbformat_minor": 2
}
